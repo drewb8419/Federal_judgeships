{
 "cells": [
  {
   "cell_type": "code",
   "execution_count": 21,
   "id": "combined-truck",
   "metadata": {},
   "outputs": [],
   "source": [
    "import pandas as pd\n",
    "import matplotlib.pyplot as plt"
   ]
  },
  {
   "cell_type": "code",
   "execution_count": 2,
   "id": "guilty-signal",
   "metadata": {},
   "outputs": [],
   "source": [
    "df = pd.read_csv('authorized_judgeships_by_year.csv',parse_dates=True)\n",
    "df.columns = ['Year','Judges']"
   ]
  },
  {
   "cell_type": "code",
   "execution_count": 3,
   "id": "unlimited-engine",
   "metadata": {},
   "outputs": [
    {
     "name": "stdout",
     "output_type": "stream",
     "text": [
      "<class 'pandas.core.frame.DataFrame'>\n",
      "RangeIndex: 267 entries, 0 to 266\n",
      "Data columns (total 2 columns):\n",
      " #   Column  Non-Null Count  Dtype \n",
      "---  ------  --------------  ----- \n",
      " 0   Year    246 non-null    object\n",
      " 1   Judges  253 non-null    object\n",
      "dtypes: object(2)\n",
      "memory usage: 4.3+ KB\n"
     ]
    }
   ],
   "source": [
    "df.info()"
   ]
  },
  {
   "cell_type": "code",
   "execution_count": 4,
   "id": "natural-celebration",
   "metadata": {},
   "outputs": [],
   "source": [
    "df['Judges w/ temp'] = 1"
   ]
  },
  {
   "cell_type": "code",
   "execution_count": 5,
   "id": "graphic-twelve",
   "metadata": {},
   "outputs": [],
   "source": [
    "#df.astype('int32',errors='ignore')\n",
    "df = df.dropna()\n",
    "df = df[~df['Year'].str.contains('Calendar')]\n",
    "df = df[~df['Year'].str.contains('Year')]\n",
    "df = df.reset_index(drop=True)\n"
   ]
  },
  {
   "cell_type": "code",
   "execution_count": 8,
   "id": "identified-disabled",
   "metadata": {},
   "outputs": [
    {
     "data": {
      "text/plain": [
       "(663, 10)"
      ]
     },
     "execution_count": 8,
     "metadata": {},
     "output_type": "execute_result"
    }
   ],
   "source": [
    "perm, temp = df.loc[231,'Judges'].split(',')\n",
    "perm = perm.replace('(3)','').replace('(6)','')\n",
    "temp = temp.replace('(3)','').replace('(6)','')\n",
    "perm = int(perm.strip())\n",
    "temp = int(temp.strip().replace('T',''))\n",
    "perm,temp"
   ]
  },
  {
   "cell_type": "code",
   "execution_count": 9,
   "id": "informative-stamp",
   "metadata": {},
   "outputs": [
    {
     "data": {
      "text/html": [
       "<div>\n",
       "<style scoped>\n",
       "    .dataframe tbody tr th:only-of-type {\n",
       "        vertical-align: middle;\n",
       "    }\n",
       "\n",
       "    .dataframe tbody tr th {\n",
       "        vertical-align: top;\n",
       "    }\n",
       "\n",
       "    .dataframe thead th {\n",
       "        text-align: right;\n",
       "    }\n",
       "</style>\n",
       "<table border=\"1\" class=\"dataframe\">\n",
       "  <thead>\n",
       "    <tr style=\"text-align: right;\">\n",
       "      <th></th>\n",
       "      <th>Year</th>\n",
       "      <th>Judges</th>\n",
       "      <th>Judges w/ temp</th>\n",
       "    </tr>\n",
       "  </thead>\n",
       "  <tbody>\n",
       "    <tr>\n",
       "      <th>0</th>\n",
       "      <td>1789</td>\n",
       "      <td>13</td>\n",
       "      <td>13</td>\n",
       "    </tr>\n",
       "    <tr>\n",
       "      <th>1</th>\n",
       "      <td>1790</td>\n",
       "      <td>15</td>\n",
       "      <td>15</td>\n",
       "    </tr>\n",
       "    <tr>\n",
       "      <th>2</th>\n",
       "      <td>1791</td>\n",
       "      <td>16</td>\n",
       "      <td>16</td>\n",
       "    </tr>\n",
       "    <tr>\n",
       "      <th>3</th>\n",
       "      <td>1792</td>\n",
       "      <td>16</td>\n",
       "      <td>16</td>\n",
       "    </tr>\n",
       "    <tr>\n",
       "      <th>4</th>\n",
       "      <td>1793</td>\n",
       "      <td>16</td>\n",
       "      <td>16</td>\n",
       "    </tr>\n",
       "  </tbody>\n",
       "</table>\n",
       "</div>"
      ],
      "text/plain": [
       "   Year Judges  Judges w/ temp\n",
       "0  1789     13              13\n",
       "1  1790     15              15\n",
       "2  1791     16              16\n",
       "3  1792     16              16\n",
       "4  1793     16              16"
      ]
     },
     "execution_count": 9,
     "metadata": {},
     "output_type": "execute_result"
    }
   ],
   "source": [
    "for i in range(len(df)):  \n",
    "    entry = df.loc[i,'Judges'].split(',')\n",
    "\n",
    "    if len(entry)==1:\n",
    "        entry = entry[0].replace('(3)','').replace('(6)','')        \n",
    "        df.loc[i,'Judges'] = int(entry)\n",
    "        df.loc[i,'Judges w/ temp'] = int(entry)\n",
    "    elif len(entry)==2:\n",
    "        perm, temp = df.loc[i,'Judges'].split(',')\n",
    "        perm = perm.replace('(3)','').replace('(6)','')\n",
    "        temp = temp.replace('(3)','').replace('(6)','')\n",
    "        perm = int(perm.strip())\n",
    "        temp = int(temp.strip().replace('T',''))\n",
    "        df.loc[i,'Judges']=perm\n",
    "        df.loc[i,'Judges w/ temp']=perm+temp\n",
    "df.head()"
   ]
  },
  {
   "cell_type": "code",
   "execution_count": 10,
   "id": "southern-maryland",
   "metadata": {},
   "outputs": [
    {
     "data": {
      "text/html": [
       "<div>\n",
       "<style scoped>\n",
       "    .dataframe tbody tr th:only-of-type {\n",
       "        vertical-align: middle;\n",
       "    }\n",
       "\n",
       "    .dataframe tbody tr th {\n",
       "        vertical-align: top;\n",
       "    }\n",
       "\n",
       "    .dataframe thead th {\n",
       "        text-align: right;\n",
       "    }\n",
       "</style>\n",
       "<table border=\"1\" class=\"dataframe\">\n",
       "  <thead>\n",
       "    <tr style=\"text-align: right;\">\n",
       "      <th></th>\n",
       "      <th>Year</th>\n",
       "      <th>Judges</th>\n",
       "      <th>Judges w/ temp</th>\n",
       "    </tr>\n",
       "  </thead>\n",
       "  <tbody>\n",
       "    <tr>\n",
       "      <th>138</th>\n",
       "      <td>1927</td>\n",
       "      <td>128</td>\n",
       "      <td>128</td>\n",
       "    </tr>\n",
       "    <tr>\n",
       "      <th>114</th>\n",
       "      <td>1903</td>\n",
       "      <td>73</td>\n",
       "      <td>73</td>\n",
       "    </tr>\n",
       "    <tr>\n",
       "      <th>61</th>\n",
       "      <td>1850</td>\n",
       "      <td>37</td>\n",
       "      <td>37</td>\n",
       "    </tr>\n",
       "    <tr>\n",
       "      <th>39</th>\n",
       "      <td>1828</td>\n",
       "      <td>27</td>\n",
       "      <td>27</td>\n",
       "    </tr>\n",
       "    <tr>\n",
       "      <th>44</th>\n",
       "      <td>1833</td>\n",
       "      <td>27</td>\n",
       "      <td>27</td>\n",
       "    </tr>\n",
       "    <tr>\n",
       "      <th>131</th>\n",
       "      <td>1920</td>\n",
       "      <td>97</td>\n",
       "      <td>97</td>\n",
       "    </tr>\n",
       "    <tr>\n",
       "      <th>54</th>\n",
       "      <td>1843</td>\n",
       "      <td>29</td>\n",
       "      <td>29</td>\n",
       "    </tr>\n",
       "    <tr>\n",
       "      <th>217</th>\n",
       "      <td>2006</td>\n",
       "      <td>663</td>\n",
       "      <td>674</td>\n",
       "    </tr>\n",
       "  </tbody>\n",
       "</table>\n",
       "</div>"
      ],
      "text/plain": [
       "     Year Judges  Judges w/ temp\n",
       "138  1927    128             128\n",
       "114  1903     73              73\n",
       "61   1850     37              37\n",
       "39   1828     27              27\n",
       "44   1833     27              27\n",
       "131  1920     97              97\n",
       "54   1843     29              29\n",
       "217  2006    663             674"
      ]
     },
     "execution_count": 10,
     "metadata": {},
     "output_type": "execute_result"
    }
   ],
   "source": [
    "df.sample(8)"
   ]
  },
  {
   "cell_type": "code",
   "execution_count": 11,
   "id": "dying-growth",
   "metadata": {},
   "outputs": [
    {
     "data": {
      "text/plain": [
       "Year              int64\n",
       "Judges            int64\n",
       "Judges w/ temp    int64\n",
       "dtype: object"
      ]
     },
     "execution_count": 11,
     "metadata": {},
     "output_type": "execute_result"
    }
   ],
   "source": [
    "df = df.astype('int64')\n",
    "df.dtypes\n",
    "\n",
    "#pd.to_datetime(df['Year'])"
   ]
  },
  {
   "cell_type": "code",
   "execution_count": 14,
   "id": "accredited-quantity",
   "metadata": {},
   "outputs": [],
   "source": [
    "df.to_csv('judges_by_year_clean.csv')"
   ]
  },
  {
   "cell_type": "code",
   "execution_count": 13,
   "id": "intimate-advantage",
   "metadata": {},
   "outputs": [
    {
     "data": {
      "text/html": [
       "<div>\n",
       "<style scoped>\n",
       "    .dataframe tbody tr th:only-of-type {\n",
       "        vertical-align: middle;\n",
       "    }\n",
       "\n",
       "    .dataframe tbody tr th {\n",
       "        vertical-align: top;\n",
       "    }\n",
       "\n",
       "    .dataframe thead th {\n",
       "        text-align: right;\n",
       "    }\n",
       "</style>\n",
       "<table border=\"1\" class=\"dataframe\">\n",
       "  <thead>\n",
       "    <tr style=\"text-align: right;\">\n",
       "      <th></th>\n",
       "      <th>Year</th>\n",
       "      <th>Population</th>\n",
       "    </tr>\n",
       "  </thead>\n",
       "  <tbody>\n",
       "    <tr>\n",
       "      <th>0</th>\n",
       "      <td>1999</td>\n",
       "      <td>272690813</td>\n",
       "    </tr>\n",
       "    <tr>\n",
       "      <th>1</th>\n",
       "      <td>1998</td>\n",
       "      <td>270248003</td>\n",
       "    </tr>\n",
       "    <tr>\n",
       "      <th>2</th>\n",
       "      <td>1997</td>\n",
       "      <td>267783607</td>\n",
       "    </tr>\n",
       "    <tr>\n",
       "      <th>3</th>\n",
       "      <td>1996</td>\n",
       "      <td>265228572</td>\n",
       "    </tr>\n",
       "    <tr>\n",
       "      <th>4</th>\n",
       "      <td>1995</td>\n",
       "      <td>262803276</td>\n",
       "    </tr>\n",
       "  </tbody>\n",
       "</table>\n",
       "</div>"
      ],
      "text/plain": [
       "   Year  Population\n",
       "0  1999   272690813\n",
       "1  1998   270248003\n",
       "2  1997   267783607\n",
       "3  1996   265228572\n",
       "4  1995   262803276"
      ]
     },
     "execution_count": 13,
     "metadata": {},
     "output_type": "execute_result"
    }
   ],
   "source": [
    "popul = pd.read_csv('US_population.csv', header=None,delimiter=r\"\\s+\")\n",
    "popul = popul.drop([0,1,4,5],axis=1)\n",
    "#.astype('int64')\n",
    "popul.columns = ['Year','Population']\n",
    "popul.Population = popul.Population.str.replace(',','')\n",
    "popul = popul.astype('int64')\n",
    "popul.head()"
   ]
  },
  {
   "cell_type": "code",
   "execution_count": 17,
   "id": "auburn-oxygen",
   "metadata": {},
   "outputs": [],
   "source": [
    "pop_file = popul.to_csv('US_population_clean.csv')"
   ]
  },
  {
   "cell_type": "code",
   "execution_count": 14,
   "id": "declared-borough",
   "metadata": {},
   "outputs": [
    {
     "data": {
      "text/plain": [
       "Year          int64\n",
       "Population    int64\n",
       "dtype: object"
      ]
     },
     "execution_count": 14,
     "metadata": {},
     "output_type": "execute_result"
    }
   ],
   "source": [
    "popul.dtypes"
   ]
  },
  {
   "cell_type": "code",
   "execution_count": 15,
   "id": "northern-particle",
   "metadata": {},
   "outputs": [],
   "source": [
    "df = df.merge(popul, how='left',on='Year')\n"
   ]
  },
  {
   "cell_type": "markdown",
   "id": "behind-woman",
   "metadata": {},
   "source": [
    "Start over with all data in one file."
   ]
  },
  {
   "cell_type": "code",
   "execution_count": 18,
   "id": "signal-calgary",
   "metadata": {},
   "outputs": [],
   "source": [
    "df = pd.read_csv('all_data_clean.csv')"
   ]
  },
  {
   "cell_type": "code",
   "execution_count": 20,
   "id": "informative-essex",
   "metadata": {},
   "outputs": [
    {
     "data": {
      "text/html": [
       "<div>\n",
       "<style scoped>\n",
       "    .dataframe tbody tr th:only-of-type {\n",
       "        vertical-align: middle;\n",
       "    }\n",
       "\n",
       "    .dataframe tbody tr th {\n",
       "        vertical-align: top;\n",
       "    }\n",
       "\n",
       "    .dataframe thead th {\n",
       "        text-align: right;\n",
       "    }\n",
       "</style>\n",
       "<table border=\"1\" class=\"dataframe\">\n",
       "  <thead>\n",
       "    <tr style=\"text-align: right;\">\n",
       "      <th></th>\n",
       "      <th>Year</th>\n",
       "      <th>Judges</th>\n",
       "      <th>Judges w/ temp</th>\n",
       "      <th>Real GDP</th>\n",
       "      <th>Population</th>\n",
       "    </tr>\n",
       "  </thead>\n",
       "  <tbody>\n",
       "    <tr>\n",
       "      <th>0</th>\n",
       "      <td>1789</td>\n",
       "      <td>13</td>\n",
       "      <td>13</td>\n",
       "      <td>NaN</td>\n",
       "      <td>NaN</td>\n",
       "    </tr>\n",
       "    <tr>\n",
       "      <th>1</th>\n",
       "      <td>1790</td>\n",
       "      <td>15</td>\n",
       "      <td>15</td>\n",
       "      <td>NaN</td>\n",
       "      <td>NaN</td>\n",
       "    </tr>\n",
       "    <tr>\n",
       "      <th>2</th>\n",
       "      <td>1791</td>\n",
       "      <td>16</td>\n",
       "      <td>16</td>\n",
       "      <td>NaN</td>\n",
       "      <td>NaN</td>\n",
       "    </tr>\n",
       "    <tr>\n",
       "      <th>3</th>\n",
       "      <td>1792</td>\n",
       "      <td>16</td>\n",
       "      <td>16</td>\n",
       "      <td>NaN</td>\n",
       "      <td>NaN</td>\n",
       "    </tr>\n",
       "    <tr>\n",
       "      <th>4</th>\n",
       "      <td>1793</td>\n",
       "      <td>16</td>\n",
       "      <td>16</td>\n",
       "      <td>NaN</td>\n",
       "      <td>NaN</td>\n",
       "    </tr>\n",
       "    <tr>\n",
       "      <th>...</th>\n",
       "      <td>...</td>\n",
       "      <td>...</td>\n",
       "      <td>...</td>\n",
       "      <td>...</td>\n",
       "      <td>...</td>\n",
       "    </tr>\n",
       "    <tr>\n",
       "      <th>227</th>\n",
       "      <td>2016</td>\n",
       "      <td>663</td>\n",
       "      <td>673</td>\n",
       "      <td>17730.509</td>\n",
       "      <td>323161011.0</td>\n",
       "    </tr>\n",
       "    <tr>\n",
       "      <th>228</th>\n",
       "      <td>2017</td>\n",
       "      <td>663</td>\n",
       "      <td>673</td>\n",
       "      <td>18144.105</td>\n",
       "      <td>324985539.0</td>\n",
       "    </tr>\n",
       "    <tr>\n",
       "      <th>229</th>\n",
       "      <td>2018</td>\n",
       "      <td>663</td>\n",
       "      <td>673</td>\n",
       "      <td>18687.786</td>\n",
       "      <td>326687501.0</td>\n",
       "    </tr>\n",
       "    <tr>\n",
       "      <th>230</th>\n",
       "      <td>2019</td>\n",
       "      <td>663</td>\n",
       "      <td>673</td>\n",
       "      <td>19091.662</td>\n",
       "      <td>328239523.0</td>\n",
       "    </tr>\n",
       "    <tr>\n",
       "      <th>231</th>\n",
       "      <td>2020</td>\n",
       "      <td>663</td>\n",
       "      <td>673</td>\n",
       "      <td>18423.446</td>\n",
       "      <td>329877505.0</td>\n",
       "    </tr>\n",
       "  </tbody>\n",
       "</table>\n",
       "<p>232 rows × 5 columns</p>\n",
       "</div>"
      ],
      "text/plain": [
       "     Year  Judges  Judges w/ temp   Real GDP   Population\n",
       "0    1789      13              13        NaN          NaN\n",
       "1    1790      15              15        NaN          NaN\n",
       "2    1791      16              16        NaN          NaN\n",
       "3    1792      16              16        NaN          NaN\n",
       "4    1793      16              16        NaN          NaN\n",
       "..    ...     ...             ...        ...          ...\n",
       "227  2016     663             673  17730.509  323161011.0\n",
       "228  2017     663             673  18144.105  324985539.0\n",
       "229  2018     663             673  18687.786  326687501.0\n",
       "230  2019     663             673  19091.662  328239523.0\n",
       "231  2020     663             673  18423.446  329877505.0\n",
       "\n",
       "[232 rows x 5 columns]"
      ]
     },
     "execution_count": 20,
     "metadata": {},
     "output_type": "execute_result"
    }
   ],
   "source": [
    "df = df.drop('Unnamed: 0',axis=1)\n",
    "df"
   ]
  },
  {
   "cell_type": "code",
   "execution_count": 37,
   "id": "violent-budapest",
   "metadata": {},
   "outputs": [],
   "source": [
    "df['Judges per capita']= (df['Judges']/df['Population'])*10000000"
   ]
  },
  {
   "cell_type": "code",
   "execution_count": 48,
   "id": "conscious-oxygen",
   "metadata": {},
   "outputs": [],
   "source": [
    "for i in range(len(df)):\n",
    "    if df.loc[i,'Year']>=1799:\n",
    "        df.loc[i,'Judges added in 10 years']=df.loc[i,'Judges']-df.loc[i-10,'Judges']\n",
    "    else:\n",
    "        df.loc[i,'Judges added in 10 years']=0"
   ]
  },
  {
   "cell_type": "code",
   "execution_count": 38,
   "id": "requested-laundry",
   "metadata": {},
   "outputs": [],
   "source": [
    "df_notnull=df[~df['Judges per capita'].isnull()]\n"
   ]
  },
  {
   "cell_type": "code",
   "execution_count": 39,
   "id": "dental-professor",
   "metadata": {},
   "outputs": [
    {
     "data": {
      "text/html": [
       "<div>\n",
       "<style scoped>\n",
       "    .dataframe tbody tr th:only-of-type {\n",
       "        vertical-align: middle;\n",
       "    }\n",
       "\n",
       "    .dataframe tbody tr th {\n",
       "        vertical-align: top;\n",
       "    }\n",
       "\n",
       "    .dataframe thead th {\n",
       "        text-align: right;\n",
       "    }\n",
       "</style>\n",
       "<table border=\"1\" class=\"dataframe\">\n",
       "  <thead>\n",
       "    <tr style=\"text-align: right;\">\n",
       "      <th></th>\n",
       "      <th>Year</th>\n",
       "      <th>Judges</th>\n",
       "      <th>Judges w/ temp</th>\n",
       "      <th>Real GDP</th>\n",
       "      <th>Population</th>\n",
       "      <th>Judges per capita</th>\n",
       "    </tr>\n",
       "  </thead>\n",
       "  <tbody>\n",
       "    <tr>\n",
       "      <th>111</th>\n",
       "      <td>1900</td>\n",
       "      <td>67</td>\n",
       "      <td>67</td>\n",
       "      <td>NaN</td>\n",
       "      <td>76094000.0</td>\n",
       "      <td>8.804899</td>\n",
       "    </tr>\n",
       "    <tr>\n",
       "      <th>112</th>\n",
       "      <td>1901</td>\n",
       "      <td>70</td>\n",
       "      <td>70</td>\n",
       "      <td>NaN</td>\n",
       "      <td>77584000.0</td>\n",
       "      <td>9.022479</td>\n",
       "    </tr>\n",
       "    <tr>\n",
       "      <th>113</th>\n",
       "      <td>1902</td>\n",
       "      <td>71</td>\n",
       "      <td>71</td>\n",
       "      <td>NaN</td>\n",
       "      <td>79163000.0</td>\n",
       "      <td>8.968836</td>\n",
       "    </tr>\n",
       "    <tr>\n",
       "      <th>114</th>\n",
       "      <td>1903</td>\n",
       "      <td>73</td>\n",
       "      <td>73</td>\n",
       "      <td>NaN</td>\n",
       "      <td>80632000.0</td>\n",
       "      <td>9.053478</td>\n",
       "    </tr>\n",
       "    <tr>\n",
       "      <th>115</th>\n",
       "      <td>1904</td>\n",
       "      <td>74</td>\n",
       "      <td>74</td>\n",
       "      <td>NaN</td>\n",
       "      <td>82166000.0</td>\n",
       "      <td>9.006158</td>\n",
       "    </tr>\n",
       "  </tbody>\n",
       "</table>\n",
       "</div>"
      ],
      "text/plain": [
       "     Year  Judges  Judges w/ temp  Real GDP  Population  Judges per capita\n",
       "111  1900      67              67       NaN  76094000.0           8.804899\n",
       "112  1901      70              70       NaN  77584000.0           9.022479\n",
       "113  1902      71              71       NaN  79163000.0           8.968836\n",
       "114  1903      73              73       NaN  80632000.0           9.053478\n",
       "115  1904      74              74       NaN  82166000.0           9.006158"
      ]
     },
     "execution_count": 39,
     "metadata": {},
     "output_type": "execute_result"
    }
   ],
   "source": [
    "df_notnull.head()"
   ]
  },
  {
   "cell_type": "code",
   "execution_count": 40,
   "id": "parallel-turkish",
   "metadata": {},
   "outputs": [
    {
     "data": {
      "image/png": "[encoded data removed]",
      "text/plain": [
       "<Figure size 432x288 with 3 Axes>"
      ]
     },
     "metadata": {
      "needs_background": "light"
     },
     "output_type": "display_data"
    }
   ],
   "source": [
    "df.plot('Year',['Population','Judges','Judges per capita'],subplots=True)\n",
    "\n",
    "plt.show()"
   ]
  },
  {
   "cell_type": "code",
   "execution_count": 42,
   "id": "colonial-treaty",
   "metadata": {},
   "outputs": [
    {
     "data": {
      "image/png": "[encoded data removed]",
      "text/plain": [
       "<Figure size 432x288 with 2 Axes>"
      ]
     },
     "metadata": {
      "needs_background": "light"
     },
     "output_type": "display_data"
    }
   ],
   "source": [
    "year = df['Year']\n",
    "pop = df['Population']\n",
    "judges = df['Judges']\n",
    "\n",
    "\n",
    "fig, ax1 = plt.subplots()\n",
    "\n",
    "color = 'tab:red'\n",
    "ax1.set_xlabel('Year')\n",
    "ax1.set_ylabel('Population', color=color)\n",
    "ax1.plot(year, pop, color=color)\n",
    "ax1.tick_params(axis='y', labelcolor=color)\n",
    "\n",
    "ax2 = ax1.twinx()  # instantiate a second axes that shares the same x-axis\n",
    "\n",
    "color = 'tab:blue'\n",
    "ax2.set_ylabel('Judges', color=color)  # we already handled the x-label with ax1\n",
    "ax2.plot(year, judges, color=color)\n",
    "ax2.tick_params(axis='y', labelcolor=color)\n",
    "\n",
    "fig.tight_layout()  # otherwise the right y-label is slightly clipped\n",
    "plt.show()"
   ]
  },
  {
   "cell_type": "markdown",
   "id": "middle-ethics",
   "metadata": {},
   "source": [
    "Federal District Court Judges have been added throughout the 20th century to keep pace with population. In 2003, this trend stopped, and no new judges have been added since then."
   ]
  },
  {
   "cell_type": "code",
   "execution_count": 52,
   "id": "considerable-snowboard",
   "metadata": {},
   "outputs": [
    {
     "data": {
      "image/png": "[encoded data removed]",
      "text/plain": [
       "<Figure size 432x288 with 2 Axes>"
      ]
     },
     "metadata": {
      "needs_background": "light"
     },
     "output_type": "display_data"
    }
   ],
   "source": [
    "year = df['Year']\n",
    "pop = df['Population']\n",
    "judges_per = df['Judges per capita']\n",
    "\n",
    "\n",
    "fig, ax1 = plt.subplots()\n",
    "\n",
    "color = 'tab:red'\n",
    "ax1.set_xlabel('Year')\n",
    "ax1.set_ylabel('Population', color=color)\n",
    "ax1.plot(year, pop, color=color)\n",
    "ax1.tick_params(axis='y', labelcolor=color)\n",
    "\n",
    "ax2 = ax1.twinx()  # instantiate a second axes that shares the same x-axis\n",
    "\n",
    "color = 'tab:blue'\n",
    "ax2.set_ylabel('Judges per 10 million', color=color)  # we already handled the x-label with ax1\n",
    "ax2.plot(year, judges_per, color=color)\n",
    "ax2.tick_params(axis='y', labelcolor=color)\n",
    "\n",
    "fig.tight_layout()  # otherwise the right y-label is slightly clipped\n",
    "plt.show()"
   ]
  },
  {
   "cell_type": "markdown",
   "id": "grand-latin",
   "metadata": {},
   "source": [
    "Throughout the 20th century, the number of judges per 10 million citizens has risen. Since 1990, judges per 10 million citizens has fallen. In 1990, that number was about 25. Now it is 20, a number last seen in about 1980."
   ]
  },
  {
   "cell_type": "code",
   "execution_count": 51,
   "id": "atmospheric-standard",
   "metadata": {},
   "outputs": [
    {
     "data": {
      "image/png": "[encoded data removed]",
      "text/plain": [
       "<Figure size 432x288 with 2 Axes>"
      ]
     },
     "metadata": {
      "needs_background": "light"
     },
     "output_type": "display_data"
    }
   ],
   "source": [
    "year = df['Year']\n",
    "pop = df['Population']\n",
    "judges_in_10 = df['Judges added in 10 years']\n",
    "\n",
    "\n",
    "fig, ax1 = plt.subplots()\n",
    "\n",
    "color = 'tab:red'\n",
    "ax1.set_xlabel('Year')\n",
    "ax1.set_ylabel('Population', color=color)\n",
    "ax1.plot(year, pop, color=color)\n",
    "ax1.tick_params(axis='y', labelcolor=color)\n",
    "\n",
    "ax2 = ax1.twinx()  # instantiate a second axes that shares the same x-axis\n",
    "\n",
    "color = 'tab:blue'\n",
    "ax2.set_ylabel('Judges added in 10 years', color=color)  # we already handled the x-label with ax1\n",
    "ax2.plot(year, judges_in_10, color=color)\n",
    "ax2.tick_params(axis='y', labelcolor=color)\n",
    "\n",
    "fig.tight_layout()  # otherwise the right y-label is slightly clipped\n",
    "plt.show()"
   ]
  },
  {
   "cell_type": "markdown",
   "id": "negative-asian",
   "metadata": {},
   "source": [
    "The rate of creating new judgeships has been falling precipitously since about 1980. It has now fallen to zero, since no new judgeships have been created since 2003. Even in the 19th century, small non-zero numbers of judges were appointed when the population of the U.S. was less than a quarter of what it is today. "
   ]
  },
  {
   "cell_type": "code",
   "execution_count": null,
   "id": "aware-local",
   "metadata": {},
   "outputs": [],
   "source": []
  }
 ],
 "metadata": {
  "kernelspec": {
   "display_name": "Python 3",
   "language": "python",
   "name": "python3"
  },
  "language_info": {
   "codemirror_mode": {
    "name": "ipython",
    "version": 3
   },
   "file_extension": ".py",
   "mimetype": "text/x-python",
   "name": "python",
   "nbconvert_exporter": "python",
   "pygments_lexer": "ipython3",
   "version": "3.9.2"
  }
 },
 "nbformat": 4,
 "nbformat_minor": 5
}
